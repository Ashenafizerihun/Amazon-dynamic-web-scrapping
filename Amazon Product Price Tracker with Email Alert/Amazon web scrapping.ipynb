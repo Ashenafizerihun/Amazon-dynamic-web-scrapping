{
 "cells": [
  {
   "cell_type": "code",
   "execution_count": 1,
   "metadata": {
    "id": "KbGdWm5-g4o5"
   },
   "outputs": [],
   "source": [
    "# Import library\n",
    "from selenium import webdriver\n",
    "from selenium.webdriver.common.by import By\n",
    "from selenium.webdriver.chrome.service import Service\n",
    "from webdriver_manager.chrome import ChromeDriverManager\n",
    "\n",
    "from bs4 import BeautifulSoup\n",
    "import smtplib"
   ]
  },
  {
   "cell_type": "code",
   "execution_count": 2,
   "metadata": {
    "colab": {
     "base_uri": "https://localhost:8080/",
     "height": 211
    },
    "executionInfo": {
     "elapsed": 702,
     "status": "error",
     "timestamp": 1735669112149,
     "user": {
      "displayName": "Ashenafi Negash",
      "userId": "02901423311021472313"
     },
     "user_tz": -180
    },
    "id": "fiblU5ZiSnol",
    "outputId": "805a2b4c-919f-40df-e010-166958c445d6"
   },
   "outputs": [],
   "source": [
    "# Set up Selenium\n",
    "service = Service(ChromeDriverManager().install())\n",
    "options = webdriver.ChromeOptions()\n",
    "options.add_argument(\"--headless\")  # Run in headless mode\n",
    "driver = webdriver.Chrome(service=service, options=options)\n",
    "\n",
    "# Connect to a website\n",
    "url = 'https://www.amazon.com/Gloria-Vanderbilt-Amanda-Average-Madison/dp/B079GTKB7B/'\n",
    "driver.get(url)\n",
    "\n",
    "# Parse page source with BeautifulSoup\n",
    "soup = BeautifulSoup(driver.page_source, \"html.parser\")\n",
    "\n",
    "# Extract title and price\n",
    "title = soup.find('span', {\"id\": \"productTitle\"})\n",
    "title = title.get_text(strip=True) if title else \"No Title\"\n",
    "\n",
    "price = soup.select_one(\"span.a-offscreen\")\n",
    "price = price.get_text(strip=True)[1:] if price else \"No Price\"\n"
   ]
  },
  {
   "cell_type": "code",
   "execution_count": 3,
   "metadata": {
    "id": "4oH8u46PVtMy"
   },
   "outputs": [],
   "source": [
    "# pull the data to CSV\n",
    "import datetime\n",
    "date = datetime.date.today()\n",
    "\n",
    "import csv\n",
    "\n",
    "header = ['Title','Price','Date']\n",
    "data = [title,price,date]"
   ]
  },
  {
   "cell_type": "code",
   "execution_count": 18,
   "metadata": {
    "id": "MIe0fiwgrpCj"
   },
   "outputs": [],
   "source": [
    "# write the data to the csv file named amazonDataset\n",
    "\n",
    "with open('amazonDataset.csv','w',newline='',encoding='UTF8') as f:\n",
    "  writer = csv.writer(f)\n",
    "  writer.writerow(header)\n",
    "  writer.writerow(data)"
   ]
  },
  {
   "cell_type": "code",
   "execution_count": 9,
   "metadata": {
    "id": "KGEtnimHIY9-"
   },
   "outputs": [],
   "source": [
    "# create a function to append a data with scheduler\n",
    "def updatePriceData():\n",
    "\n",
    "  url = 'https://www.amazon.com/Gloria-Vanderbilt-Amanda-Average-Madison/dp/B079GTKB7B/'\n",
    "  driver.get(url)\n",
    "\n",
    "  soup = BeautifulSoup(driver.page_source, \"html.parser\")\n",
    "\n",
    "  # Extract title and price\n",
    "  title = soup.find(\"span\", {\"id\": \"productTitle\"})\n",
    "  title = title.get_text(strip=True) if title else \"No Title\"\n",
    "\n",
    "\n",
    "  price = soup.select_one(\"span.a-offscreen\")\n",
    "  price = price.get_text(strip=True)[1:] if price else \"No Price\"\n",
    "\n",
    "  # Add a data extraction data on the third column\n",
    "  import datetime\n",
    "  date = datetime.date.today()\n",
    "\n",
    "  # Append the data extracted on the existing csv file while the function is called\n",
    "\n",
    "  with open('amazonDataset.csv','a+',newline='',encoding='UTF8') as f:\n",
    "    writer = csv.writer(f)\n",
    "    writer.writerow(data)\n"
   ]
  },
  {
   "cell_type": "code",
   "execution_count": 11,
   "metadata": {
    "id": "71SvNgobk5tN"
   },
   "outputs": [],
   "source": [
    "import smtplib\n",
    "import os\n",
    "from email.mime.multipart import MIMEMultipart\n",
    "from email.mime.text import MIMEText\n",
    "\n",
    "def send_mail(to_email, price):\n",
    "    sender_email = os.getenv(\"EMAIL_ADDRESS\")\n",
    "    sender_password = os.getenv(\"EMAIL_PASSWORD\")\n",
    "    if not sender_password:\n",
    "        print(\"Error: EMAIL_PASSWORD is not set!\")\n",
    "        return\n",
    "    \n",
    "    subject = \"Price Alert: Price Dropped Below $15!\"\n",
    "    body = f\"The price has dropped to ${price}. Check it out now!\"\n",
    "    \n",
    "    # Setup email content\n",
    "    msg = MIMEMultipart()\n",
    "    msg[\"From\"] = sender_email\n",
    "    msg[\"To\"] = to_email\n",
    "    msg[\"Subject\"] = subject\n",
    "    msg.attach(MIMEText(body, \"plain\"))\n",
    "    \n",
    "    try:\n",
    "        # Use TLS with port 587\n",
    "        server = smtplib.SMTP(\"smtp.gmail.com\", 587)\n",
    "        server.starttls()  # Upgrade to secure connection\n",
    "        server.login(sender_email, sender_password)\n",
    "        server.send_message(msg)\n",
    "        print(\"Email sent successfully!\")\n",
    "    except smtplib.SMTPAuthenticationError:\n",
    "        print(\"Error: Authentication failed. Check your email and password.\")\n",
    "    except smtplib.SMTPException as e:\n",
    "        print(f\"SMTP error occurred: {e}\")\n",
    "    except Exception as e:\n",
    "        print(f\"An unexpected error occurred: {e}\")\n",
    "    finally:\n",
    "        try:\n",
    "            server.quit()\n",
    "        except:\n",
    "            pass"
   ]
  },
  {
   "cell_type": "code",
   "execution_count": 20,
   "metadata": {
    "colab": {
     "base_uri": "https://localhost:8080/",
     "height": 419
    },
    "executionInfo": {
     "elapsed": 195653,
     "status": "error",
     "timestamp": 1735412170481,
     "user": {
      "displayName": "Ashenafi Negash",
      "userId": "02901423311021472313"
     },
     "user_tz": -180
    },
    "id": "e_UU6uE_KpFK",
    "outputId": "e4910d84-c576-4a5b-ea78-1365d9f167f2"
   },
   "outputs": [
    {
     "name": "stdout",
     "output_type": "stream",
     "text": [
      "Price dropped to $19.22, sending email...\n",
      "Email sent successfully!\n",
      "Current price is $19.22. No email sent.\n"
     ]
    },
    {
     "ename": "KeyboardInterrupt",
     "evalue": "",
     "output_type": "error",
     "traceback": [
      "\u001b[1;31m---------------------------------------------------------------------------\u001b[0m",
      "\u001b[1;31mKeyboardInterrupt\u001b[0m                         Traceback (most recent call last)",
      "Cell \u001b[1;32mIn[20], line 19\u001b[0m\n\u001b[0;32m     16\u001b[0m \u001b[38;5;28;01mexcept\u001b[39;00m \u001b[38;5;167;01mException\u001b[39;00m \u001b[38;5;28;01mas\u001b[39;00m e:\n\u001b[0;32m     17\u001b[0m     \u001b[38;5;28mprint\u001b[39m(\u001b[38;5;124mf\u001b[39m\u001b[38;5;124m\"\u001b[39m\u001b[38;5;124mError while updating price: \u001b[39m\u001b[38;5;132;01m{\u001b[39;00me\u001b[38;5;132;01m}\u001b[39;00m\u001b[38;5;124m\"\u001b[39m)\n\u001b[1;32m---> 19\u001b[0m time\u001b[38;5;241m.\u001b[39msleep(\u001b[38;5;241m60\u001b[39m)\n",
      "\u001b[1;31mKeyboardInterrupt\u001b[0m: "
     ]
    }
   ],
   "source": [
    "import time\n",
    "\n",
    "last_price = None\n",
    "\n",
    "while True:\n",
    "    try:\n",
    "        updatePriceData()\n",
    "        \n",
    "        if price is not None and float(price) < 20 and price != last_price:\n",
    "            print(f\"Price dropped to ${price}, sending email...\")\n",
    "            send_mail(\"ashtipay@gmail.com\", price)\n",
    "            last_price = price\n",
    "        else:\n",
    "            print(f\"Current price is ${price}. No email sent.\")\n",
    "        \n",
    "    except Exception as e:\n",
    "        print(f\"Error while updating price: {e}\")\n",
    "    \n",
    "    time.sleep(60)  # Check every 60 seconds"
   ]
  },
  {
   "cell_type": "code",
   "execution_count": null,
   "metadata": {},
   "outputs": [],
   "source": []
  }
 ],
 "metadata": {
  "colab": {
   "provenance": []
  },
  "kernelspec": {
   "display_name": "Python 3 (ipykernel)",
   "language": "python",
   "name": "python3"
  },
  "language_info": {
   "codemirror_mode": {
    "name": "ipython",
    "version": 3
   },
   "file_extension": ".py",
   "mimetype": "text/x-python",
   "name": "python",
   "nbconvert_exporter": "python",
   "pygments_lexer": "ipython3",
   "version": "3.12.7"
  }
 },
 "nbformat": 4,
 "nbformat_minor": 4
}
